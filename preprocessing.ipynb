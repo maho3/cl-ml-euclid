{
 "cells": [
  {
   "cell_type": "code",
   "execution_count": 2,
   "id": "d1e4fa98-33f3-4db9-8b27-5f17a9b1cbb1",
   "metadata": {
    "ExecuteTime": {
     "end_time": "2023-05-28T02:16:37.619531Z",
     "start_time": "2023-05-28T02:16:37.116329Z"
    },
    "execution": {
     "iopub.execute_input": "2023-05-11T13:19:32.817055Z",
     "iopub.status.busy": "2023-05-11T13:19:32.816614Z",
     "iopub.status.idle": "2023-05-11T13:19:43.410827Z",
     "shell.execute_reply": "2023-05-11T13:19:43.409428Z",
     "shell.execute_reply.started": "2023-05-11T13:19:32.816992Z"
    },
    "scrolled": true,
    "tags": []
   },
   "outputs": [
    {
     "name": "stdout",
     "output_type": "stream",
     "text": [
      "The autoreload extension is already loaded. To reload it, use:\n",
      "  %reload_ext autoreload\n"
     ]
    }
   ],
   "source": [
    "%load_ext autoreload\n",
    "%autoreload 2\n",
    "\n",
    "import os\n",
    "from os.path import join\n",
    "import numpy as np\n",
    "import scipy\n",
    "import pandas as pd\n",
    "from tqdm import tqdm\n"
   ]
  },
  {
   "cell_type": "code",
   "execution_count": 3,
   "id": "2dd5e079-b117-4e49-a139-3a18a47372d0",
   "metadata": {
    "ExecuteTime": {
     "end_time": "2023-05-28T02:16:38.900825Z",
     "start_time": "2023-05-28T02:16:38.268358Z"
    },
    "execution": {
     "iopub.execute_input": "2023-05-11T13:19:43.413756Z",
     "iopub.status.busy": "2023-05-11T13:19:43.413374Z",
     "iopub.status.idle": "2023-05-11T13:19:43.445433Z",
     "shell.execute_reply": "2023-05-11T13:19:43.444304Z",
     "shell.execute_reply.started": "2023-05-11T13:19:43.413707Z"
    },
    "tags": []
   },
   "outputs": [],
   "source": [
    "import matplotlib as mpl\n",
    "import matplotlib.pyplot as plt\n",
    "\n",
    "plt.rcParams[\"mathtext.fontset\"] = \"cm\"\n",
    "plt.rcParams[\"xtick.direction\"] = \"in\"\n",
    "plt.rcParams[\"ytick.direction\"] = \"in\"\n",
    "plt.rcParams[\"xtick.top\"] = True\n",
    "plt.rcParams[\"ytick.right\"] = True\n",
    "plt.rcParams['savefig.dpi'] = 300\n",
    "# mpl.rc('text', usetex=True)\n",
    "# mpl.rcParams['text.latex.preamble']=[r\"\\usepackage{amsmath, amsfonts}\"]"
   ]
  },
  {
   "cell_type": "code",
   "execution_count": 4,
   "id": "56ac786b-d60b-402f-a052-63668248dbdb",
   "metadata": {
    "ExecuteTime": {
     "end_time": "2023-05-28T02:16:42.208455Z",
     "start_time": "2023-05-28T02:16:39.014269Z"
    },
    "execution": {
     "iopub.execute_input": "2023-05-11T13:19:43.446385Z",
     "iopub.status.busy": "2023-05-11T13:19:43.446244Z",
     "iopub.status.idle": "2023-05-11T13:19:43.472618Z",
     "shell.execute_reply": "2023-05-11T13:19:43.471854Z",
     "shell.execute_reply.started": "2023-05-11T13:19:43.446368Z"
    },
    "tags": []
   },
   "outputs": [],
   "source": [
    "import torch\n",
    "from torch import nn\n",
    "import sbi\n",
    "from sbi import utils as utils\n",
    "from sbi.inference import likelihood_estimator_based_potential"
   ]
  },
  {
   "cell_type": "code",
   "execution_count": 5,
   "id": "ba92e198-0829-45e1-8755-3a7ebe030b7d",
   "metadata": {
    "ExecuteTime": {
     "end_time": "2023-05-28T02:16:42.242945Z",
     "start_time": "2023-05-28T02:16:42.209958Z"
    },
    "execution": {
     "iopub.execute_input": "2023-05-11T13:19:43.474103Z",
     "iopub.status.busy": "2023-05-11T13:19:43.473830Z",
     "iopub.status.idle": "2023-05-11T13:19:43.495906Z",
     "shell.execute_reply": "2023-05-11T13:19:43.494789Z",
     "shell.execute_reply.started": "2023-05-11T13:19:43.474087Z"
    },
    "tags": []
   },
   "outputs": [],
   "source": [
    "from tools.catalog import Catalog\n",
    "from tools.plot_tools import binned_plot\n",
    "get_cen = lambda edges: np.array([(edges[i]+edges[i+1])/2. for i in range(len(edges)-1)])"
   ]
  },
  {
   "cell_type": "markdown",
   "id": "033b685c",
   "metadata": {},
   "source": [
    "# Andrea Flagship 2 data"
   ]
  },
  {
   "cell_type": "code",
   "execution_count": 6,
   "id": "3a53f67a",
   "metadata": {
    "ExecuteTime": {
     "end_time": "2023-05-28T17:25:57.290506Z",
     "start_time": "2023-05-28T17:25:56.800957Z"
    }
   },
   "outputs": [
    {
     "name": "stderr",
     "output_type": "stream",
     "text": [
      "/var/folders/_t/p68l7m6933b26j8g9wkcgq080000gp/T/ipykernel_39804/851058082.py:1: DtypeWarning: Columns (0) have mixed types. Specify dtype option on import or set low_memory=False.\n",
      "  data = pd.read_csv('data/raw/deep_all.dat', delimiter=' ', index_col=False,\n"
     ]
    }
   ],
   "source": [
    "data = pd.read_csv('data/raw/deep_all.dat', delimiter=' ', index_col=False,\n",
    "                   skipinitialspace=True)\n",
    "data = pd.DataFrame(data.iloc[1:,:-1].values, columns=data.columns[1:]).reset_index(drop=True)"
   ]
  },
  {
   "cell_type": "code",
   "execution_count": 7,
   "id": "89021ae9",
   "metadata": {
    "ExecuteTime": {
     "end_time": "2023-05-28T17:25:58.396531Z",
     "start_time": "2023-05-28T17:25:58.239379Z"
    }
   },
   "outputs": [],
   "source": [
    "c = 2.99792458e5 # km/s\n",
    "data['vwC50'] = c*(data['zwerr']-data['zwC50'])/(1+data['zwC50'])\n",
    "data['vwC100'] = c*(data['zwerr']-data['zwC100'])/(1+data['zwC100'])\n",
    "data['vdC50'] = c*(data['zwerr']-data['zdC50'])/(1+data['zwC50'])\n",
    "data['vdC100'] = c*(data['zwerr']-data['zdC100'])/(1+data['zwC100'])"
   ]
  },
  {
   "cell_type": "code",
   "execution_count": 7,
   "id": "ed0eaae7",
   "metadata": {
    "ExecuteTime": {
     "end_time": "2023-05-28T19:46:53.927957Z",
     "start_time": "2023-05-28T19:46:53.815881Z"
    }
   },
   "outputs": [],
   "source": [
    "dirpath = 'data/processed/FS2wC50'\n",
    "param_names = ['M200','r200']\n",
    "data_names = ['x','y','vwC50']\n",
    "\n",
    "# calculate mask \n",
    "mask = np.abs(data[data_names[-1]])<5000\n",
    "mask *= data['fHa']>np.log10(2e-16)\n",
    "\n",
    "ids = data.loc[mask,'Cl_id'].values.astype(int)\n",
    "gals = data.loc[mask,data_names].values.astype('float64')\n",
    "thetas = np.log10(data.loc[mask,param_names].values.astype('float64'))\n",
    "\n",
    "# remove singles\n",
    "unq, cnt = np.unique(ids, return_counts=True)\n",
    "mask = np.isin(ids, unq[cnt>1])\n",
    "ids, gals, thetas = ids[mask], gals[mask], thetas[mask]\n",
    "\n",
    "# assign folds\n",
    "unq = np.unique(ids)\n",
    "folddict = pd.Series(np.random.choice(10, size=len(unq)), index=unq)\n",
    "folds = folddict[ids].values\n",
    "\n",
    "os.makedirs(dirpath, exist_ok=True)\n",
    "np.save(join(dirpath, 'x.npy'), gals)\n",
    "np.save(join(dirpath, 'theta.npy'), thetas)\n",
    "np.save(join(dirpath, 'fold.npy'), folds)\n",
    "np.save(join(dirpath, 'id.npy'), ids)"
   ]
  },
  {
   "cell_type": "code",
   "execution_count": 228,
   "id": "e0ee56da",
   "metadata": {
    "ExecuteTime": {
     "end_time": "2023-05-28T19:46:21.000697Z",
     "start_time": "2023-05-28T19:46:20.887081Z"
    }
   },
   "outputs": [],
   "source": [
    "dirpath = 'data/processed/FS2wC100'\n",
    "param_names = ['M200','r200']\n",
    "data_names = ['x','y','vwC100']\n",
    "\n",
    "# calculate mask \n",
    "mask = np.abs(data[data_names[-1]])<5000\n",
    "mask *= data['fHa']>np.log10(2e-16)\n",
    "\n",
    "ids = data.loc[mask,'Cl_id'].values.astype(int)\n",
    "gals = data.loc[mask,data_names].values.astype('float64')\n",
    "thetas = np.log10(data.loc[mask,param_names].values.astype('float64'))\n",
    "\n",
    "# remove singles\n",
    "unq, cnt = np.unique(ids, return_counts=True)\n",
    "mask = np.isin(ids, unq[cnt>1])\n",
    "ids, gals, thetas = ids[mask], gals[mask], thetas[mask]\n",
    "\n",
    "# assign folds\n",
    "unq = np.unique(ids)\n",
    "folddict = pd.Series(np.random.choice(10, size=len(unq)), index=unq)\n",
    "folds = folddict[ids].values\n",
    "\n",
    "os.makedirs(dirpath, exist_ok=True)\n",
    "np.save(join(dirpath, 'x.npy'), gals)\n",
    "np.save(join(dirpath, 'theta.npy'), thetas)\n",
    "np.save(join(dirpath, 'fold.npy'), folds)\n",
    "np.save(join(dirpath, 'id.npy'), ids)"
   ]
  },
  {
   "cell_type": "code",
   "execution_count": 229,
   "id": "fea4b376",
   "metadata": {
    "ExecuteTime": {
     "end_time": "2023-05-28T19:46:30.508767Z",
     "start_time": "2023-05-28T19:46:30.349250Z"
    }
   },
   "outputs": [],
   "source": [
    "dirpath = 'data/processed/FS2dC50'\n",
    "param_names = ['M200','r200']\n",
    "data_names = ['x','y','vdC50']\n",
    "\n",
    "# calculate mask \n",
    "mask = np.abs(data[data_names[-1]])<5000\n",
    "mask *= data['fHa']>np.log10(6e-17)\n",
    "\n",
    "ids = data.loc[mask,'Cl_id'].values.astype(int)\n",
    "gals = data.loc[mask,data_names].values.astype('float64')\n",
    "thetas = np.log10(data.loc[mask,param_names].values.astype('float64'))\n",
    "\n",
    "# remove singles\n",
    "unq, cnt = np.unique(ids, return_counts=True)\n",
    "mask = np.isin(ids, unq[cnt>1])\n",
    "ids, gals, thetas = ids[mask], gals[mask], thetas[mask]\n",
    "\n",
    "# assign folds\n",
    "unq = np.unique(ids)\n",
    "folddict = pd.Series(np.random.choice(10, size=len(unq)), index=unq)\n",
    "folds = folddict[ids].values\n",
    "\n",
    "os.makedirs(dirpath, exist_ok=True)\n",
    "np.save(join(dirpath, 'x.npy'), gals)\n",
    "np.save(join(dirpath, 'theta.npy'), thetas)\n",
    "np.save(join(dirpath, 'fold.npy'), folds)\n",
    "np.save(join(dirpath, 'id.npy'), ids)"
   ]
  },
  {
   "cell_type": "code",
   "execution_count": 230,
   "id": "90ea1a7d",
   "metadata": {
    "ExecuteTime": {
     "end_time": "2023-05-28T19:46:36.600503Z",
     "start_time": "2023-05-28T19:46:36.437870Z"
    },
    "scrolled": true
   },
   "outputs": [],
   "source": [
    "dirpath = 'data/processed/FS2dC100'\n",
    "param_names = ['M200','r200']\n",
    "data_names = ['x','y','vdC100']\n",
    "\n",
    "# calculate mask \n",
    "mask = np.abs(data[data_names[-1]])<5000\n",
    "mask *= data['fHa']>np.log10(6e-17)\n",
    "\n",
    "ids = data.loc[mask,'Cl_id'].values.astype(int)\n",
    "gals = data.loc[mask,data_names].values.astype('float64')\n",
    "thetas = np.log10(data.loc[mask,param_names].values.astype('float64'))\n",
    "\n",
    "# remove singles\n",
    "unq, cnt = np.unique(ids, return_counts=True)\n",
    "mask = np.isin(ids, unq[cnt>1])\n",
    "ids, gals, thetas = ids[mask], gals[mask], thetas[mask]\n",
    "\n",
    "# assign folds\n",
    "unq = np.unique(ids)\n",
    "folddict = pd.Series(np.random.choice(10, size=len(unq)), index=unq)\n",
    "folds = folddict[ids].values\n",
    "\n",
    "os.makedirs(dirpath, exist_ok=True)\n",
    "np.save(join(dirpath, 'x.npy'), gals)\n",
    "np.save(join(dirpath, 'theta.npy'), thetas)\n",
    "np.save(join(dirpath, 'fold.npy'), folds)\n",
    "np.save(join(dirpath, 'id.npy'), ids)"
   ]
  },
  {
   "cell_type": "code",
   "execution_count": null,
   "id": "43eb91c7",
   "metadata": {
    "ExecuteTime": {
     "end_time": "2023-05-28T19:46:56.027711Z",
     "start_time": "2023-05-28T19:46:55.980067Z"
    }
   },
   "outputs": [],
   "source": []
  },
  {
   "cell_type": "code",
   "execution_count": null,
   "id": "3bcb6bb7",
   "metadata": {
    "ExecuteTime": {
     "end_time": "2023-05-28T19:45:47.759781Z",
     "start_time": "2023-05-28T19:45:47.696888Z"
    }
   },
   "outputs": [],
   "source": []
  },
  {
   "cell_type": "code",
   "execution_count": null,
   "id": "affce820",
   "metadata": {
    "ExecuteTime": {
     "end_time": "2023-05-28T19:18:22.847395Z",
     "start_time": "2023-05-28T19:18:22.694283Z"
    }
   },
   "outputs": [],
   "source": []
  },
  {
   "cell_type": "markdown",
   "id": "c11c57b4-bbef-40e4-bea1-4143832b5575",
   "metadata": {},
   "source": [
    "# Lorenzo's data"
   ]
  },
  {
   "cell_type": "code",
   "execution_count": 21,
   "id": "773f739e-7a99-4dbc-b7cb-fad02be2aa39",
   "metadata": {
    "ExecuteTime": {
     "end_time": "2023-05-28T02:21:09.412210Z",
     "start_time": "2023-05-28T02:21:08.974081Z"
    },
    "execution": {
     "iopub.execute_input": "2023-05-11T13:25:37.077750Z",
     "iopub.status.busy": "2023-05-11T13:25:37.077320Z",
     "iopub.status.idle": "2023-05-11T13:25:37.646266Z",
     "shell.execute_reply": "2023-05-11T13:25:37.645490Z",
     "shell.execute_reply.started": "2023-05-11T13:25:37.077700Z"
    },
    "tags": []
   },
   "outputs": [],
   "source": [
    "data = pd.read_csv('data/raw/TrainingSetMatt_NFW_gT.txt', delimiter='\\t', \n",
    "                   index_col=False, header=None,\n",
    "                   skiprows=2, on_bad_lines='skip',\n",
    "                   skipinitialspace=True)\n",
    "data = data.iloc[:,:-1]\n",
    "x = 'x_pos y_pos  Rxy  vz  deltaR deltav(stat) deltav(syst) Clust_ID z  r200  M200  rs  rnu  beta1  beta0'\n",
    "x = [y for y in x.split(' ') if y!='']\n",
    "data.columns = x\n",
    "\n",
    "# fix for now\n",
    "data['y_pos'] = np.sqrt(data['Rxy']**2 - data['x_pos']**2) * np.random.choice([-1,1], size=len(data))\n"
   ]
  },
  {
   "cell_type": "code",
   "execution_count": 22,
   "id": "ee369641-9ada-4593-a4eb-d7ddf9a990e9",
   "metadata": {
    "ExecuteTime": {
     "end_time": "2023-05-28T02:21:09.970981Z",
     "start_time": "2023-05-28T02:21:09.912792Z"
    },
    "execution": {
     "iopub.execute_input": "2023-05-11T13:25:37.647593Z",
     "iopub.status.busy": "2023-05-11T13:25:37.647373Z",
     "iopub.status.idle": "2023-05-11T13:25:37.679821Z",
     "shell.execute_reply": "2023-05-11T13:25:37.679050Z",
     "shell.execute_reply.started": "2023-05-11T13:25:37.647576Z"
    },
    "tags": []
   },
   "outputs": [],
   "source": [
    "param_names = ['M200','rs']\n",
    "data_names = ['x_pos','y_pos','vz']\n",
    "\n",
    "gals = data.loc[:,data_names].values\n",
    "thetas = data.loc[:,param_names].values\n",
    "thetas[:,0] = np.log10(thetas[:,0])\n",
    "ids = data.loc[:,'Clust_ID'].values"
   ]
  },
  {
   "cell_type": "code",
   "execution_count": 23,
   "id": "a89b7fa7-8155-4f7a-b6e2-96f9ac527f14",
   "metadata": {
    "ExecuteTime": {
     "end_time": "2023-05-28T02:21:10.508605Z",
     "start_time": "2023-05-28T02:21:10.448250Z"
    },
    "execution": {
     "iopub.execute_input": "2023-05-11T13:25:38.498474Z",
     "iopub.status.busy": "2023-05-11T13:25:38.497934Z",
     "iopub.status.idle": "2023-05-11T13:25:38.615714Z",
     "shell.execute_reply": "2023-05-11T13:25:38.614554Z",
     "shell.execute_reply.started": "2023-05-11T13:25:38.498422Z"
    },
    "tags": []
   },
   "outputs": [
    {
     "name": "stdout",
     "output_type": "stream",
     "text": [
      "6501\n"
     ]
    }
   ],
   "source": [
    "unq = np.unique(data['Clust_ID'])\n",
    "folddict = pd.Series(np.random.choice(10, size=len(unq)), index=unq)\n",
    "folds = folddict[data['Clust_ID']].values\n",
    "print(len(unq))"
   ]
  },
  {
   "cell_type": "code",
   "execution_count": 24,
   "id": "266b2ca2-dd99-4d2e-9ee0-9ae4655af3a8",
   "metadata": {
    "ExecuteTime": {
     "end_time": "2023-05-28T02:21:11.454878Z",
     "start_time": "2023-05-28T02:21:11.366238Z"
    },
    "execution": {
     "iopub.execute_input": "2023-05-11T13:25:39.912674Z",
     "iopub.status.busy": "2023-05-11T13:25:39.912402Z",
     "iopub.status.idle": "2023-05-11T13:25:40.383489Z",
     "shell.execute_reply": "2023-05-11T13:25:40.382062Z",
     "shell.execute_reply.started": "2023-05-11T13:25:39.912644Z"
    },
    "tags": []
   },
   "outputs": [],
   "source": [
    "dirpath = 'data/processed/Lorenzo'\n",
    "os.makedirs(dirpath, exist_ok=True)\n",
    "\n",
    "np.save(join(dirpath, 'x.npy'), gals)\n",
    "np.save(join(dirpath, 'theta.npy'), thetas)\n",
    "np.save(join(dirpath, 'fold.npy'), folds)\n",
    "np.save(join(dirpath, 'id.npy'), ids)"
   ]
  },
  {
   "cell_type": "code",
   "execution_count": 25,
   "id": "eab8ed45-829b-45c9-bde9-7256efa10352",
   "metadata": {
    "ExecuteTime": {
     "end_time": "2023-05-28T02:21:12.255210Z",
     "start_time": "2023-05-28T02:21:12.198104Z"
    },
    "execution": {
     "iopub.execute_input": "2023-05-10T10:45:49.282485Z",
     "iopub.status.busy": "2023-05-10T10:45:49.281915Z",
     "iopub.status.idle": "2023-05-10T10:45:49.319473Z",
     "shell.execute_reply": "2023-05-10T10:45:49.318727Z",
     "shell.execute_reply.started": "2023-05-10T10:45:49.282434Z"
    },
    "tags": []
   },
   "outputs": [
    {
     "data": {
      "text/plain": [
       "(array([13.72631961,  0.1003    ]), array([14.62603225,  0.2801    ]))"
      ]
     },
     "execution_count": 25,
     "metadata": {},
     "output_type": "execute_result"
    }
   ],
   "source": [
    "thetas.min(axis=0), thetas.max(axis=0)"
   ]
  },
  {
   "cell_type": "code",
   "execution_count": 26,
   "id": "ead223c9-9faa-40e1-808d-46369926b9a3",
   "metadata": {
    "ExecuteTime": {
     "end_time": "2023-05-28T02:21:12.797862Z",
     "start_time": "2023-05-28T02:21:12.606676Z"
    },
    "execution": {
     "iopub.execute_input": "2023-05-11T13:25:31.993818Z",
     "iopub.status.busy": "2023-05-11T13:25:31.993390Z",
     "iopub.status.idle": "2023-05-11T13:25:32.096396Z",
     "shell.execute_reply": "2023-05-11T13:25:32.095686Z",
     "shell.execute_reply.started": "2023-05-11T13:25:31.993770Z"
    },
    "tags": []
   },
   "outputs": [
    {
     "data": {
      "text/plain": [
       "[<matplotlib.lines.Line2D at 0x2d6cda470>]"
      ]
     },
     "execution_count": 26,
     "metadata": {},
     "output_type": "execute_result"
    },
    {
     "data": {
      "image/png": "[encoded data removed]",
      "text/plain": [
       "<Figure size 640x480 with 1 Axes>"
      ]
     },
     "metadata": {},
     "output_type": "display_data"
    }
   ],
   "source": [
    "plt.plot(data.loc[:10, 'x_pos'], data.loc[:10, 'y_pos'],'.')"
   ]
  },
  {
   "cell_type": "code",
   "execution_count": null,
   "id": "c7bfaf86",
   "metadata": {},
   "outputs": [],
   "source": []
  },
  {
   "cell_type": "code",
   "execution_count": 83,
   "id": "2bde47fd",
   "metadata": {
    "ExecuteTime": {
     "end_time": "2023-05-28T15:51:29.847175Z",
     "start_time": "2023-05-28T15:51:29.745104Z"
    }
   },
   "outputs": [],
   "source": [
    "from scipy.stats import truncnorm"
   ]
  },
  {
   "cell_type": "code",
   "execution_count": 109,
   "id": "42eeea13",
   "metadata": {
    "ExecuteTime": {
     "end_time": "2023-05-28T15:56:57.501698Z",
     "start_time": "2023-05-28T15:56:57.445953Z"
    }
   },
   "outputs": [],
   "source": [
    "samps = truncnorm.rvs(-0.5,2, size=1000)"
   ]
  },
  {
   "cell_type": "code",
   "execution_count": 110,
   "id": "0ff7a4e2",
   "metadata": {
    "ExecuteTime": {
     "end_time": "2023-05-28T15:56:57.910029Z",
     "start_time": "2023-05-28T15:56:57.845798Z"
    }
   },
   "outputs": [
    {
     "data": {
      "text/plain": [
       "(-0.5, 2, 0, 0.9998199462890617)"
      ]
     },
     "execution_count": 110,
     "metadata": {},
     "output_type": "execute_result"
    }
   ],
   "source": [
    "truncnorm.fit(samps, floc=0, f0=-0.5, f1=2)"
   ]
  },
  {
   "cell_type": "code",
   "execution_count": 91,
   "id": "2fc34b13",
   "metadata": {
    "ExecuteTime": {
     "end_time": "2023-05-28T15:53:48.175248Z",
     "start_time": "2023-05-28T15:53:48.039953Z"
    }
   },
   "outputs": [
    {
     "data": {
      "text/plain": [
       "(array([1428., 1440., 1478., 1399., 1214., 1009.,  814.,  538.,  420.,\n",
       "         260.]),\n",
       " array([-4.99648848e-01, -2.49788821e-01,  7.12061826e-05,  2.49931233e-01,\n",
       "         4.99791260e-01,  7.49651287e-01,  9.99511314e-01,  1.24937134e+00,\n",
       "         1.49923137e+00,  1.74909139e+00,  1.99895142e+00]),\n",
       " <BarContainer object of 10 artists>)"
      ]
     },
     "execution_count": 91,
     "metadata": {},
     "output_type": "execute_result"
    },
    {
     "data": {
      "image/png": "[encoded data removed]",
      "text/plain": [
       "<Figure size 640x480 with 1 Axes>"
      ]
     },
     "metadata": {},
     "output_type": "display_data"
    }
   ],
   "source": [
    "plt.hist(samps)"
   ]
  },
  {
   "cell_type": "markdown",
   "id": "fbcbd41d",
   "metadata": {},
   "source": [
    "# Scratch"
   ]
  },
  {
   "cell_type": "markdown",
   "id": "47d060b7",
   "metadata": {},
   "source": [
    "## Plot FS2"
   ]
  },
  {
   "cell_type": "code",
   "execution_count": 4,
   "id": "f324f3b0",
   "metadata": {
    "ExecuteTime": {
     "end_time": "2023-05-29T00:40:50.881641Z",
     "start_time": "2023-05-29T00:40:49.489865Z"
    }
   },
   "outputs": [
    {
     "name": "stderr",
     "output_type": "stream",
     "text": [
      "/var/folders/_t/p68l7m6933b26j8g9wkcgq080000gp/T/ipykernel_13530/851058082.py:1: DtypeWarning: Columns (0) have mixed types. Specify dtype option on import or set low_memory=False.\n",
      "  data = pd.read_csv('data/raw/deep_all.dat', delimiter=' ', index_col=False,\n"
     ]
    }
   ],
   "source": [
    "data = pd.read_csv('data/raw/deep_all.dat', delimiter=' ', index_col=False,\n",
    "                   skipinitialspace=True)\n",
    "data = pd.DataFrame(data.iloc[1:,:-1].values, columns=data.columns[1:]).reset_index(drop=True)"
   ]
  },
  {
   "cell_type": "code",
   "execution_count": 5,
   "id": "b082f309",
   "metadata": {
    "ExecuteTime": {
     "end_time": "2023-05-29T00:40:51.808566Z",
     "start_time": "2023-05-29T00:40:51.563767Z"
    }
   },
   "outputs": [],
   "source": [
    "c = 2.99792458e5 # km/s\n",
    "data['vwC50'] = c*(data['zwerr']-data['zwC50'])/(1+data['zwC50'])\n",
    "data['vwC100'] = c*(data['zwerr']-data['zwC100'])/(1+data['zwC100'])\n",
    "data['vdC50'] = c*(data['zwerr']-data['zdC50'])/(1+data['zwC50'])\n",
    "data['vdC100'] = c*(data['zwerr']-data['zdC100'])/(1+data['zwC100'])"
   ]
  },
  {
   "cell_type": "code",
   "execution_count": 10,
   "id": "3421329b",
   "metadata": {
    "ExecuteTime": {
     "end_time": "2023-05-29T00:41:06.766183Z",
     "start_time": "2023-05-29T00:41:06.491650Z"
    }
   },
   "outputs": [
    {
     "data": {
      "text/plain": [
       "0.08901759450422962"
      ]
     },
     "execution_count": 10,
     "metadata": {},
     "output_type": "execute_result"
    }
   ],
   "source": [
    "np.sum(data['M']==1)/len(data)"
   ]
  },
  {
   "cell_type": "code",
   "execution_count": 327,
   "id": "7018039b",
   "metadata": {
    "ExecuteTime": {
     "end_time": "2023-05-29T01:35:31.823930Z",
     "start_time": "2023-05-29T01:35:31.135634Z"
    },
    "scrolled": false
   },
   "outputs": [
    {
     "data": {
      "image/png": "[encoded data removed]",
      "text/plain": [
       "<Figure size 1200x600 with 2 Axes>"
      ]
     },
     "metadata": {},
     "output_type": "display_data"
    }
   ],
   "source": [
    "gby = data.groupby('Cl_id')\n",
    "\n",
    "i = np.random.randint(1000)\n",
    "idat = gby.get_group(i)\n",
    "\n",
    "idat = idat[np.abs(idat['vdC100'])<5000]\n",
    "idat['Rproj'] = np.sqrt(idat['x'].astype(float)**2+idat['y'].astype(float)**2)\n",
    "norm = plt.Normalize(-16.4, -15)\n",
    "\n",
    "f, axs = plt.subplots(1,2, figsize=(12,6))\n",
    "axs[0].plot(0,0,'k+')\n",
    "g=sns.scatterplot(idat, x='x', y='y', hue='fHa', size='fHa', \n",
    "                  hue_norm=norm, size_norm=norm, palette='coolwarm', ax=axs[0])\n",
    "axs[0].set_xlim(-3,3)\n",
    "axs[0].set_ylim(-3,3)\n",
    "\n",
    "axs[1].axhline(0, color='k', linestyle='--')\n",
    "g=sns.scatterplot(idat, x='Rproj', y='vdC100', hue='fHa', size='fHa',\n",
    "                  hue_norm=norm, size_norm=norm, palette='coolwarm', ax=axs[1])\n",
    "axs[1].set_xlim(0,3)\n",
    "axs[1].set_ylim(-5000,5000)\n",
    "\n",
    "f.suptitle(f\"logm200c = {np.log10(idat['M200'].iloc[0]):.3f}, logr200c = {np.log10(idat['r200'].iloc[0]):.3f}\", fontsize=14)\n",
    "\n",
    "f.savefig('images/ex_fs2_0.pdf', bbox_inches='tight')"
   ]
  },
  {
   "cell_type": "code",
   "execution_count": 316,
   "id": "667f3d9d",
   "metadata": {
    "ExecuteTime": {
     "end_time": "2023-05-29T01:32:55.203329Z",
     "start_time": "2023-05-29T01:32:55.136759Z"
    }
   },
   "outputs": [
    {
     "data": {
      "text/html": [
       "<div>\n",
       "<style scoped>\n",
       "    .dataframe tbody tr th:only-of-type {\n",
       "        vertical-align: middle;\n",
       "    }\n",
       "\n",
       "    .dataframe tbody tr th {\n",
       "        vertical-align: top;\n",
       "    }\n",
       "\n",
       "    .dataframe thead th {\n",
       "        text-align: right;\n",
       "    }\n",
       "</style>\n",
       "<table border=\"1\" class=\"dataframe\">\n",
       "  <thead>\n",
       "    <tr style=\"text-align: right;\">\n",
       "      <th></th>\n",
       "      <th>x</th>\n",
       "      <th>y</th>\n",
       "      <th>zobs</th>\n",
       "      <th>zwerr</th>\n",
       "      <th>Hmag</th>\n",
       "      <th>fHa</th>\n",
       "      <th>M</th>\n",
       "      <th>C</th>\n",
       "      <th>Cl_id</th>\n",
       "      <th>xcl</th>\n",
       "      <th>...</th>\n",
       "      <th>zwC100</th>\n",
       "      <th>zdC50</th>\n",
       "      <th>zdC100</th>\n",
       "      <th>M200</th>\n",
       "      <th>r200</th>\n",
       "      <th>vwC50</th>\n",
       "      <th>vwC100</th>\n",
       "      <th>vdC50</th>\n",
       "      <th>vdC100</th>\n",
       "      <th>Rproj</th>\n",
       "    </tr>\n",
       "  </thead>\n",
       "  <tbody>\n",
       "    <tr>\n",
       "      <th>113443</th>\n",
       "      <td>0.834</td>\n",
       "      <td>0.383</td>\n",
       "      <td>0.990721</td>\n",
       "      <td>0.9921</td>\n",
       "      <td>20.34</td>\n",
       "      <td>-15.072</td>\n",
       "      <td>0.0</td>\n",
       "      <td>0.05</td>\n",
       "      <td>435.0</td>\n",
       "      <td>0.0</td>\n",
       "      <td>...</td>\n",
       "      <td>0.985961</td>\n",
       "      <td>0.984243</td>\n",
       "      <td>0.982992</td>\n",
       "      <td>248300000000000.0</td>\n",
       "      <td>0.91</td>\n",
       "      <td>844.972126</td>\n",
       "      <td>926.718047</td>\n",
       "      <td>1185.737809</td>\n",
       "      <td>1374.906006</td>\n",
       "      <td>0.917739</td>\n",
       "    </tr>\n",
       "    <tr>\n",
       "      <th>113444</th>\n",
       "      <td>1.431</td>\n",
       "      <td>1.049</td>\n",
       "      <td>0.980813</td>\n",
       "      <td>0.9817</td>\n",
       "      <td>22.95</td>\n",
       "      <td>-15.872</td>\n",
       "      <td>1.0</td>\n",
       "      <td>0.71</td>\n",
       "      <td>435.0</td>\n",
       "      <td>0.0</td>\n",
       "      <td>...</td>\n",
       "      <td>0.985961</td>\n",
       "      <td>0.984243</td>\n",
       "      <td>0.982992</td>\n",
       "      <td>248300000000000.0</td>\n",
       "      <td>0.91</td>\n",
       "      <td>-724.542092</td>\n",
       "      <td>-643.222935</td>\n",
       "      <td>-383.776409</td>\n",
       "      <td>-195.034976</td>\n",
       "      <td>1.774306</td>\n",
       "    </tr>\n",
       "    <tr>\n",
       "      <th>113445</th>\n",
       "      <td>0.523</td>\n",
       "      <td>-0.391</td>\n",
       "      <td>0.995478</td>\n",
       "      <td>0.9968</td>\n",
       "      <td>23.21</td>\n",
       "      <td>-16.158</td>\n",
       "      <td>0.0</td>\n",
       "      <td>0.96</td>\n",
       "      <td>435.0</td>\n",
       "      <td>0.0</td>\n",
       "      <td>...</td>\n",
       "      <td>0.985961</td>\n",
       "      <td>0.984243</td>\n",
       "      <td>0.982992</td>\n",
       "      <td>248300000000000.0</td>\n",
       "      <td>0.91</td>\n",
       "      <td>1554.27182</td>\n",
       "      <td>1636.210606</td>\n",
       "      <td>1895.037503</td>\n",
       "      <td>2084.398566</td>\n",
       "      <td>0.653001</td>\n",
       "    </tr>\n",
       "    <tr>\n",
       "      <th>113446</th>\n",
       "      <td>-1.113</td>\n",
       "      <td>-0.053</td>\n",
       "      <td>0.990315</td>\n",
       "      <td>0.9918</td>\n",
       "      <td>21.28</td>\n",
       "      <td>-16.215</td>\n",
       "      <td>1.0</td>\n",
       "      <td>0.73</td>\n",
       "      <td>435.0</td>\n",
       "      <td>0.0</td>\n",
       "      <td>...</td>\n",
       "      <td>0.985961</td>\n",
       "      <td>0.984243</td>\n",
       "      <td>0.982992</td>\n",
       "      <td>248300000000000.0</td>\n",
       "      <td>0.91</td>\n",
       "      <td>799.697677</td>\n",
       "      <td>881.431288</td>\n",
       "      <td>1140.46336</td>\n",
       "      <td>1329.619247</td>\n",
       "      <td>1.114261</td>\n",
       "    </tr>\n",
       "    <tr>\n",
       "      <th>113447</th>\n",
       "      <td>0.008</td>\n",
       "      <td>-0.108</td>\n",
       "      <td>0.982688</td>\n",
       "      <td>0.9822</td>\n",
       "      <td>22.12</td>\n",
       "      <td>-16.113</td>\n",
       "      <td>1.0</td>\n",
       "      <td>0.05</td>\n",
       "      <td>435.0</td>\n",
       "      <td>0.0</td>\n",
       "      <td>...</td>\n",
       "      <td>0.985961</td>\n",
       "      <td>0.984243</td>\n",
       "      <td>0.982992</td>\n",
       "      <td>248300000000000.0</td>\n",
       "      <td>0.91</td>\n",
       "      <td>-649.084678</td>\n",
       "      <td>-567.745003</td>\n",
       "      <td>-308.318995</td>\n",
       "      <td>-119.557044</td>\n",
       "      <td>0.108296</td>\n",
       "    </tr>\n",
       "    <tr>\n",
       "      <th>...</th>\n",
       "      <td>...</td>\n",
       "      <td>...</td>\n",
       "      <td>...</td>\n",
       "      <td>...</td>\n",
       "      <td>...</td>\n",
       "      <td>...</td>\n",
       "      <td>...</td>\n",
       "      <td>...</td>\n",
       "      <td>...</td>\n",
       "      <td>...</td>\n",
       "      <td>...</td>\n",
       "      <td>...</td>\n",
       "      <td>...</td>\n",
       "      <td>...</td>\n",
       "      <td>...</td>\n",
       "      <td>...</td>\n",
       "      <td>...</td>\n",
       "      <td>...</td>\n",
       "      <td>...</td>\n",
       "      <td>...</td>\n",
       "      <td>...</td>\n",
       "    </tr>\n",
       "    <tr>\n",
       "      <th>113812</th>\n",
       "      <td>-0.258</td>\n",
       "      <td>0.888</td>\n",
       "      <td>0.979293</td>\n",
       "      <td>0.9749</td>\n",
       "      <td>19.79</td>\n",
       "      <td>-15.608</td>\n",
       "      <td>1.0</td>\n",
       "      <td>0.51</td>\n",
       "      <td>435.0</td>\n",
       "      <td>0.0</td>\n",
       "      <td>...</td>\n",
       "      <td>0.985961</td>\n",
       "      <td>0.984243</td>\n",
       "      <td>0.982992</td>\n",
       "      <td>248300000000000.0</td>\n",
       "      <td>0.91</td>\n",
       "      <td>-1750.762927</td>\n",
       "      <td>-1669.722808</td>\n",
       "      <td>-1409.997244</td>\n",
       "      <td>-1221.534849</td>\n",
       "      <td>0.924720</td>\n",
       "    </tr>\n",
       "    <tr>\n",
       "      <th>113813</th>\n",
       "      <td>-0.274</td>\n",
       "      <td>0.431</td>\n",
       "      <td>0.986594</td>\n",
       "      <td>0.9863</td>\n",
       "      <td>19.93</td>\n",
       "      <td>-15.97</td>\n",
       "      <td>1.0</td>\n",
       "      <td>0.2</td>\n",
       "      <td>435.0</td>\n",
       "      <td>0.0</td>\n",
       "      <td>...</td>\n",
       "      <td>0.985961</td>\n",
       "      <td>0.984243</td>\n",
       "      <td>0.982992</td>\n",
       "      <td>248300000000000.0</td>\n",
       "      <td>0.91</td>\n",
       "      <td>-30.333881</td>\n",
       "      <td>51.174038</td>\n",
       "      <td>310.431803</td>\n",
       "      <td>499.361997</td>\n",
       "      <td>0.510722</td>\n",
       "    </tr>\n",
       "    <tr>\n",
       "      <th>113816</th>\n",
       "      <td>1.121</td>\n",
       "      <td>0.126</td>\n",
       "      <td>0.976309</td>\n",
       "      <td>0.974</td>\n",
       "      <td>22.53</td>\n",
       "      <td>-15.856</td>\n",
       "      <td>0.0</td>\n",
       "      <td>0.45</td>\n",
       "      <td>435.0</td>\n",
       "      <td>0.0</td>\n",
       "      <td>...</td>\n",
       "      <td>0.985961</td>\n",
       "      <td>0.984243</td>\n",
       "      <td>0.982992</td>\n",
       "      <td>248300000000000.0</td>\n",
       "      <td>0.91</td>\n",
       "      <td>-1886.586273</td>\n",
       "      <td>-1805.583086</td>\n",
       "      <td>-1545.82059</td>\n",
       "      <td>-1357.395126</td>\n",
       "      <td>1.128059</td>\n",
       "    </tr>\n",
       "    <tr>\n",
       "      <th>113817</th>\n",
       "      <td>0.779</td>\n",
       "      <td>-0.454</td>\n",
       "      <td>0.977667</td>\n",
       "      <td>0.9789</td>\n",
       "      <td>20.05</td>\n",
       "      <td>-15.529</td>\n",
       "      <td>0.0</td>\n",
       "      <td>0.16</td>\n",
       "      <td>435.0</td>\n",
       "      <td>0.0</td>\n",
       "      <td>...</td>\n",
       "      <td>0.985961</td>\n",
       "      <td>0.984243</td>\n",
       "      <td>0.982992</td>\n",
       "      <td>248300000000000.0</td>\n",
       "      <td>0.91</td>\n",
       "      <td>-1147.103612</td>\n",
       "      <td>-1065.899353</td>\n",
       "      <td>-806.337929</td>\n",
       "      <td>-617.711394</td>\n",
       "      <td>0.901641</td>\n",
       "    </tr>\n",
       "    <tr>\n",
       "      <th>113818</th>\n",
       "      <td>0.064</td>\n",
       "      <td>0.507</td>\n",
       "      <td>0.970108</td>\n",
       "      <td>0.9691</td>\n",
       "      <td>22.61</td>\n",
       "      <td>-15.793</td>\n",
       "      <td>0.0</td>\n",
       "      <td>0.15</td>\n",
       "      <td>435.0</td>\n",
       "      <td>0.0</td>\n",
       "      <td>...</td>\n",
       "      <td>0.985961</td>\n",
       "      <td>0.984243</td>\n",
       "      <td>0.982992</td>\n",
       "      <td>248300000000000.0</td>\n",
       "      <td>0.91</td>\n",
       "      <td>-2626.068933</td>\n",
       "      <td>-2545.266818</td>\n",
       "      <td>-2285.30325</td>\n",
       "      <td>-2097.078858</td>\n",
       "      <td>0.511023</td>\n",
       "    </tr>\n",
       "  </tbody>\n",
       "</table>\n",
       "<p>168 rows × 24 columns</p>\n",
       "</div>"
      ],
      "text/plain": [
       "            x      y      zobs   zwerr   Hmag     fHa    M     C  Cl_id  xcl  \\\n",
       "113443  0.834  0.383  0.990721  0.9921  20.34 -15.072  0.0  0.05  435.0  0.0   \n",
       "113444  1.431  1.049  0.980813  0.9817  22.95 -15.872  1.0  0.71  435.0  0.0   \n",
       "113445  0.523 -0.391  0.995478  0.9968  23.21 -16.158  0.0  0.96  435.0  0.0   \n",
       "113446 -1.113 -0.053  0.990315  0.9918  21.28 -16.215  1.0  0.73  435.0  0.0   \n",
       "113447  0.008 -0.108  0.982688  0.9822  22.12 -16.113  1.0  0.05  435.0  0.0   \n",
       "...       ...    ...       ...     ...    ...     ...  ...   ...    ...  ...   \n",
       "113812 -0.258  0.888  0.979293  0.9749  19.79 -15.608  1.0  0.51  435.0  0.0   \n",
       "113813 -0.274  0.431  0.986594  0.9863  19.93  -15.97  1.0   0.2  435.0  0.0   \n",
       "113816  1.121  0.126  0.976309   0.974  22.53 -15.856  0.0  0.45  435.0  0.0   \n",
       "113817  0.779 -0.454  0.977667  0.9789  20.05 -15.529  0.0  0.16  435.0  0.0   \n",
       "113818  0.064  0.507  0.970108  0.9691  22.61 -15.793  0.0  0.15  435.0  0.0   \n",
       "\n",
       "        ...    zwC100     zdC50    zdC100               M200  r200  \\\n",
       "113443  ...  0.985961  0.984243  0.982992  248300000000000.0  0.91   \n",
       "113444  ...  0.985961  0.984243  0.982992  248300000000000.0  0.91   \n",
       "113445  ...  0.985961  0.984243  0.982992  248300000000000.0  0.91   \n",
       "113446  ...  0.985961  0.984243  0.982992  248300000000000.0  0.91   \n",
       "113447  ...  0.985961  0.984243  0.982992  248300000000000.0  0.91   \n",
       "...     ...       ...       ...       ...                ...   ...   \n",
       "113812  ...  0.985961  0.984243  0.982992  248300000000000.0  0.91   \n",
       "113813  ...  0.985961  0.984243  0.982992  248300000000000.0  0.91   \n",
       "113816  ...  0.985961  0.984243  0.982992  248300000000000.0  0.91   \n",
       "113817  ...  0.985961  0.984243  0.982992  248300000000000.0  0.91   \n",
       "113818  ...  0.985961  0.984243  0.982992  248300000000000.0  0.91   \n",
       "\n",
       "              vwC50       vwC100        vdC50       vdC100     Rproj  \n",
       "113443   844.972126   926.718047  1185.737809  1374.906006  0.917739  \n",
       "113444  -724.542092  -643.222935  -383.776409  -195.034976  1.774306  \n",
       "113445   1554.27182  1636.210606  1895.037503  2084.398566  0.653001  \n",
       "113446   799.697677   881.431288   1140.46336  1329.619247  1.114261  \n",
       "113447  -649.084678  -567.745003  -308.318995  -119.557044  0.108296  \n",
       "...             ...          ...          ...          ...       ...  \n",
       "113812 -1750.762927 -1669.722808 -1409.997244 -1221.534849  0.924720  \n",
       "113813   -30.333881    51.174038   310.431803   499.361997  0.510722  \n",
       "113816 -1886.586273 -1805.583086  -1545.82059 -1357.395126  1.128059  \n",
       "113817 -1147.103612 -1065.899353  -806.337929  -617.711394  0.901641  \n",
       "113818 -2626.068933 -2545.266818  -2285.30325 -2097.078858  0.511023  \n",
       "\n",
       "[168 rows x 24 columns]"
      ]
     },
     "execution_count": 316,
     "metadata": {},
     "output_type": "execute_result"
    }
   ],
   "source": [
    "idat"
   ]
  },
  {
   "cell_type": "code",
   "execution_count": 273,
   "id": "d90cdaab",
   "metadata": {
    "ExecuteTime": {
     "end_time": "2023-05-29T01:04:51.512288Z",
     "start_time": "2023-05-29T01:04:51.439450Z"
    }
   },
   "outputs": [
    {
     "data": {
      "text/plain": [
       "(-15.698970004336019, -16.221848749616356)"
      ]
     },
     "execution_count": 273,
     "metadata": {},
     "output_type": "execute_result"
    }
   ],
   "source": [
    "np.log10(2e-16), np.log10(6e-17)"
   ]
  },
  {
   "cell_type": "code",
   "execution_count": 298,
   "id": "3fadc547",
   "metadata": {
    "ExecuteTime": {
     "end_time": "2023-05-29T01:24:00.934676Z",
     "start_time": "2023-05-29T01:24:00.848369Z"
    }
   },
   "outputs": [
    {
     "data": {
      "text/plain": [
       "-15.698970004336019"
      ]
     },
     "execution_count": 298,
     "metadata": {},
     "output_type": "execute_result"
    }
   ],
   "source": [
    "np.log10(2e-16)"
   ]
  },
  {
   "cell_type": "markdown",
   "id": "d677aa12",
   "metadata": {},
   "source": [
    "## Real Scratch"
   ]
  },
  {
   "cell_type": "code",
   "execution_count": null,
   "id": "0d75773b",
   "metadata": {},
   "outputs": [],
   "source": []
  }
 ],
 "metadata": {
  "kernelspec": {
   "display_name": "Python 3 (ipykernel)",
   "language": "python",
   "name": "python3"
  },
  "language_info": {
   "codemirror_mode": {
    "name": "ipython",
    "version": 3
   },
   "file_extension": ".py",
   "mimetype": "text/x-python",
   "name": "python",
   "nbconvert_exporter": "python",
   "pygments_lexer": "ipython3",
   "version": "3.10.0"
  },
  "toc": {
   "base_numbering": 1,
   "nav_menu": {},
   "number_sections": true,
   "sideBar": true,
   "skip_h1_title": false,
   "title_cell": "Table of Contents",
   "title_sidebar": "Contents",
   "toc_cell": false,
   "toc_position": {},
   "toc_section_display": true,
   "toc_window_display": true
  }
 },
 "nbformat": 4,
 "nbformat_minor": 5
}
