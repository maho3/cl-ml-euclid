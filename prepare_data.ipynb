{
 "cells": [
  {
   "cell_type": "code",
   "execution_count": 11,
   "id": "d1e4fa98-33f3-4db9-8b27-5f17a9b1cbb1",
   "metadata": {
    "ExecuteTime": {
     "end_time": "2023-04-05T19:57:04.930681Z",
     "start_time": "2023-04-05T19:57:04.870332Z"
    },
    "execution": {
     "iopub.execute_input": "2023-05-11T13:19:32.817055Z",
     "iopub.status.busy": "2023-05-11T13:19:32.816614Z",
     "iopub.status.idle": "2023-05-11T13:19:43.410827Z",
     "shell.execute_reply": "2023-05-11T13:19:43.409428Z",
     "shell.execute_reply.started": "2023-05-11T13:19:32.816992Z"
    },
    "scrolled": true,
    "tags": []
   },
   "outputs": [
    {
     "name": "stdout",
     "output_type": "stream",
     "text": [
      "The autoreload extension is already loaded. To reload it, use:\n",
      "  %reload_ext autoreload\n"
     ]
    }
   ],
   "source": [
    "%load_ext autoreload\n",
    "%autoreload 2\n",
    "\n",
    "import os\n",
    "from os.path import join\n",
    "import numpy as np\n",
    "import scipy\n",
    "import pandas as pd\n",
    "from tqdm import tqdm\n"
   ]
  },
  {
   "cell_type": "code",
   "execution_count": 12,
   "id": "2dd5e079-b117-4e49-a139-3a18a47372d0",
   "metadata": {
    "ExecuteTime": {
     "end_time": "2023-04-05T17:43:34.318155Z",
     "start_time": "2023-04-05T17:43:33.996477Z"
    },
    "execution": {
     "iopub.execute_input": "2023-05-11T13:19:43.413756Z",
     "iopub.status.busy": "2023-05-11T13:19:43.413374Z",
     "iopub.status.idle": "2023-05-11T13:19:43.445433Z",
     "shell.execute_reply": "2023-05-11T13:19:43.444304Z",
     "shell.execute_reply.started": "2023-05-11T13:19:43.413707Z"
    },
    "tags": []
   },
   "outputs": [],
   "source": [
    "import matplotlib as mpl\n",
    "import matplotlib.pyplot as plt\n",
    "\n",
    "plt.rcParams[\"mathtext.fontset\"] = \"cm\"\n",
    "plt.rcParams[\"xtick.direction\"] = \"in\"\n",
    "plt.rcParams[\"ytick.direction\"] = \"in\"\n",
    "plt.rcParams[\"xtick.top\"] = True\n",
    "plt.rcParams[\"ytick.right\"] = True\n",
    "plt.rcParams['savefig.dpi'] = 300\n",
    "# mpl.rc('text', usetex=True)\n",
    "# mpl.rcParams['text.latex.preamble']=[r\"\\usepackage{amsmath, amsfonts}\"]"
   ]
  },
  {
   "cell_type": "code",
   "execution_count": 13,
   "id": "56ac786b-d60b-402f-a052-63668248dbdb",
   "metadata": {
    "ExecuteTime": {
     "end_time": "2023-04-05T17:43:35.621358Z",
     "start_time": "2023-04-05T17:43:34.318860Z"
    },
    "execution": {
     "iopub.execute_input": "2023-05-11T13:19:43.446385Z",
     "iopub.status.busy": "2023-05-11T13:19:43.446244Z",
     "iopub.status.idle": "2023-05-11T13:19:43.472618Z",
     "shell.execute_reply": "2023-05-11T13:19:43.471854Z",
     "shell.execute_reply.started": "2023-05-11T13:19:43.446368Z"
    },
    "tags": []
   },
   "outputs": [],
   "source": [
    "import torch\n",
    "from torch import nn\n",
    "import sbi\n",
    "from sbi import utils as utils\n",
    "from sbi.inference import likelihood_estimator_based_potential"
   ]
  },
  {
   "cell_type": "code",
   "execution_count": 14,
   "id": "ba92e198-0829-45e1-8755-3a7ebe030b7d",
   "metadata": {
    "ExecuteTime": {
     "end_time": "2023-04-05T17:43:35.658478Z",
     "start_time": "2023-04-05T17:43:35.622699Z"
    },
    "execution": {
     "iopub.execute_input": "2023-05-11T13:19:43.474103Z",
     "iopub.status.busy": "2023-05-11T13:19:43.473830Z",
     "iopub.status.idle": "2023-05-11T13:19:43.495906Z",
     "shell.execute_reply": "2023-05-11T13:19:43.494789Z",
     "shell.execute_reply.started": "2023-05-11T13:19:43.474087Z"
    },
    "tags": []
   },
   "outputs": [],
   "source": [
    "from tools.catalog import Catalog\n",
    "from tools.plot_tools import binned_plot\n",
    "get_cen = lambda edges: np.array([(edges[i]+edges[i+1])/2. for i in range(len(edges)-1)])"
   ]
  },
  {
   "cell_type": "markdown",
   "id": "5c422286-5ff9-4425-94d2-2ff3203b3750",
   "metadata": {
    "jp-MarkdownHeadingCollapsed": true,
    "tags": []
   },
   "source": [
    "# UchuuUM old"
   ]
  },
  {
   "cell_type": "markdown",
   "id": "ef3a39d6-b2db-4d36-81ad-ea2e17b37eaf",
   "metadata": {},
   "source": [
    "## Load and cut"
   ]
  },
  {
   "cell_type": "code",
   "execution_count": 11,
   "id": "15a27501",
   "metadata": {
    "ExecuteTime": {
     "end_time": "2023-04-05T17:43:44.910907Z",
     "start_time": "2023-04-05T17:43:35.659560Z"
    },
    "execution": {
     "iopub.execute_input": "2023-05-09T21:24:51.505050Z",
     "iopub.status.busy": "2023-05-09T21:24:51.504743Z",
     "iopub.status.idle": "2023-05-09T21:25:02.841876Z",
     "shell.execute_reply": "2023-05-09T21:25:02.840897Z",
     "shell.execute_reply.started": "2023-05-09T21:24:51.505031Z"
    },
    "tags": []
   },
   "outputs": [
    {
     "name": "stdout",
     "output_type": "stream",
     "text": [
      "Loading catalog from: data/raw/UchuuUM_sn40_z=0.49-0.494_sm9.5-extralarge_221020_contam.p\n"
     ]
    }
   ],
   "source": [
    "cat = Catalog().load('data/raw/UchuuUM_sn40_z=0.49-0.494_sm9.5-extralarge_221020_contam.p')\n",
    "\n",
    "# only rotation 0\n",
    "rot = 0\n",
    "cat = cat[(cat.prop['rotation']==rot).values]"
   ]
  },
  {
   "cell_type": "code",
   "execution_count": 12,
   "id": "d898b314",
   "metadata": {
    "ExecuteTime": {
     "end_time": "2023-04-05T17:43:50.079270Z",
     "start_time": "2023-04-05T17:43:44.915249Z"
    },
    "execution": {
     "iopub.execute_input": "2023-05-09T21:25:02.843242Z",
     "iopub.status.busy": "2023-05-09T21:25:02.842943Z",
     "iopub.status.idle": "2023-05-09T21:25:12.695953Z",
     "shell.execute_reply": "2023-05-09T21:25:12.694686Z",
     "shell.execute_reply.started": "2023-05-09T21:25:02.843225Z"
    },
    "tags": []
   },
   "outputs": [],
   "source": [
    "# load additional properties\n",
    "props = pd.read_csv('data/raw/halodir_040_m200c1e13_props.csv').drop('Unnamed: 0', axis=1)\n",
    "props = props.set_index('id')\n",
    "\n",
    "props = props.reindex(cat.prop['id']).reset_index()\n",
    "\n",
    "# append additional properties\n",
    "for c in props.columns:\n",
    "    if c not in cat.prop.columns:\n",
    "        cat.prop[c] = props[c]\n",
    "        \n",
    "cat.prop['conc'] = cat.prop['Rvir']/cat.prop['rs']\n",
    "cat.prop['logM'] = np.log10(cat.prop['M200c'])"
   ]
  },
  {
   "cell_type": "code",
   "execution_count": 13,
   "id": "b1cbd817",
   "metadata": {
    "ExecuteTime": {
     "end_time": "2023-04-05T17:43:50.178679Z",
     "start_time": "2023-04-05T17:43:50.080252Z"
    },
    "execution": {
     "iopub.execute_input": "2023-05-09T21:25:12.697403Z",
     "iopub.status.busy": "2023-05-09T21:25:12.697096Z",
     "iopub.status.idle": "2023-05-09T21:25:12.791726Z",
     "shell.execute_reply": "2023-05-09T21:25:12.790768Z",
     "shell.execute_reply.started": "2023-05-09T21:25:12.697383Z"
    },
    "tags": []
   },
   "outputs": [],
   "source": [
    "# cut clusters\n",
    "mask = cat.prop['M200c'].values >= 1e14\n",
    "mask = mask & (cat.prop['conc'].values <= 15)\n",
    "cat = cat[mask]"
   ]
  },
  {
   "cell_type": "code",
   "execution_count": 14,
   "id": "e53a577f",
   "metadata": {
    "ExecuteTime": {
     "end_time": "2023-04-05T17:43:54.224969Z",
     "start_time": "2023-04-05T17:43:50.179521Z"
    },
    "execution": {
     "iopub.execute_input": "2023-05-09T21:25:12.792942Z",
     "iopub.status.busy": "2023-05-09T21:25:12.792634Z",
     "iopub.status.idle": "2023-05-09T21:25:21.986353Z",
     "shell.execute_reply": "2023-05-09T21:25:21.985573Z",
     "shell.execute_reply.started": "2023-05-09T21:25:12.792922Z"
    },
    "tags": []
   },
   "outputs": [
    {
     "name": "stdout",
     "output_type": "stream",
     "text": [
      "71721\n",
      "71721\n"
     ]
    }
   ],
   "source": [
    "# cut galaxy sample\n",
    "vcut = 3785\n",
    "aperture = 2.3\n",
    "Ngal_samp = 10\n",
    "\n",
    "# cylinder cut\n",
    "for i in range(len(cat)):\n",
    "    mask = np.abs(cat.gal[i]['vlos']) < vcut\n",
    "    mask = mask & (cat.gal[i]['Rproj'] < 2.3)\n",
    "    cat.gal[i] = cat.gal[i][mask]\n",
    "    cat.prop.loc[i, 'Ngal'] = len(cat.gal[i])\n",
    "    # TODO: recalculate sigv\n",
    "cat.par['aperture']=aperture\n",
    "cat.par['vcut']=vcut\n",
    "\n",
    "print(len(cat))\n",
    "cat = cat[cat.prop['Ngal'].values>=10]\n",
    "print(len(cat))\n",
    "\n",
    "# now, limit the spectroscopic sampling\n",
    "for i in range(len(cat)):\n",
    "    mask = np.random.choice(len(cat.gal[i]), size=Ngal_samp, replace=False)\n",
    "    cat.gal[i] = cat.gal[i][mask]"
   ]
  },
  {
   "cell_type": "markdown",
   "id": "50065fb9-bdbc-47f5-a470-07e907417fb6",
   "metadata": {
    "tags": []
   },
   "source": [
    "## prepare"
   ]
  },
  {
   "cell_type": "code",
   "execution_count": 15,
   "id": "29243081-85af-45a3-91e7-8619a6680548",
   "metadata": {
    "execution": {
     "iopub.execute_input": "2023-05-09T21:25:21.987329Z",
     "iopub.status.busy": "2023-05-09T21:25:21.987197Z",
     "iopub.status.idle": "2023-05-09T21:25:22.128075Z",
     "shell.execute_reply": "2023-05-09T21:25:22.127101Z",
     "shell.execute_reply.started": "2023-05-09T21:25:21.987313Z"
    },
    "tags": []
   },
   "outputs": [
    {
     "data": {
      "text/plain": [
       "array([129261409195131, 160013375878520,  84731189596746, ...,\n",
       "        81604449781131,  22024667626343, 137026707914367])"
      ]
     },
     "execution_count": 15,
     "metadata": {},
     "output_type": "execute_result"
    }
   ],
   "source": [
    "ids = cat.prop['id'].values.astype(np.int64)\n",
    "ids"
   ]
  },
  {
   "cell_type": "code",
   "execution_count": 16,
   "id": "0b0f6ff9",
   "metadata": {
    "ExecuteTime": {
     "end_time": "2023-04-05T20:14:37.915664Z",
     "start_time": "2023-04-05T20:14:37.863220Z"
    },
    "execution": {
     "iopub.execute_input": "2023-05-09T21:25:22.129336Z",
     "iopub.status.busy": "2023-05-09T21:25:22.129044Z",
     "iopub.status.idle": "2023-05-09T21:25:23.721322Z",
     "shell.execute_reply": "2023-05-09T21:25:23.720141Z",
     "shell.execute_reply.started": "2023-05-09T21:25:22.129317Z"
    },
    "tags": []
   },
   "outputs": [],
   "source": [
    "param_names = ['logM','conc']\n",
    "data_names = ['xproj','yproj','vlos']\n",
    "\n",
    "# grab relevant data fields\n",
    "def construct_dataset(cat):\n",
    "    gals = np.concatenate(cat.gal, axis=0)\n",
    "    gals = np.stack([gals[x] for x in data_names], axis=-1)\n",
    "    theta = np.stack([cat.prop[x].repeat(Ngal_samp).values for x in param_names], \n",
    "                     axis=-1)\n",
    "    return gals, theta\n",
    "\n",
    "# separate into train/test\n",
    "fold = np.random.randint(0, 10, size=len(cat))\n",
    "id = cat.prop['id'].values.astype(np.int64)\n",
    "rec = []\n",
    "for i in range(10):\n",
    "    gi, ti = construct_dataset(cat[fold==i])\n",
    "    fi = [i]*len(gi)\n",
    "    idi = id[fold==i]\n",
    "    rec.append((gi,ti,fi,idi))"
   ]
  },
  {
   "cell_type": "code",
   "execution_count": 17,
   "id": "327c6a2f",
   "metadata": {
    "ExecuteTime": {
     "end_time": "2023-04-05T20:14:40.090012Z",
     "start_time": "2023-04-05T20:14:38.472045Z"
    },
    "execution": {
     "iopub.execute_input": "2023-05-09T21:25:23.722577Z",
     "iopub.status.busy": "2023-05-09T21:25:23.722290Z",
     "iopub.status.idle": "2023-05-09T21:25:23.801374Z",
     "shell.execute_reply": "2023-05-09T21:25:23.800225Z",
     "shell.execute_reply.started": "2023-05-09T21:25:23.722559Z"
    },
    "tags": []
   },
   "outputs": [],
   "source": [
    "gals = np.concatenate([x[0] for x in rec], axis=0)\n",
    "thetas = np.concatenate([x[1] for x in rec], axis=0)\n",
    "folds = np.concatenate([x[2] for x in rec], axis=0)\n",
    "ids = np.concatenate([x[3] for x in rec], axis=0)"
   ]
  },
  {
   "cell_type": "code",
   "execution_count": 19,
   "id": "89854aea-4ec6-4003-ab57-1a4625121fea",
   "metadata": {
    "execution": {
     "iopub.execute_input": "2023-05-09T21:26:49.941267Z",
     "iopub.status.busy": "2023-05-09T21:26:49.940713Z",
     "iopub.status.idle": "2023-05-09T21:27:00.995639Z",
     "shell.execute_reply": "2023-05-09T21:27:00.994870Z",
     "shell.execute_reply.started": "2023-05-09T21:26:49.941216Z"
    },
    "tags": []
   },
   "outputs": [
    {
     "data": {
      "text/plain": [
       "(array([14.        ,  1.00057932]), array([15.28044178, 14.57941809]))"
      ]
     },
     "execution_count": 19,
     "metadata": {},
     "output_type": "execute_result"
    }
   ],
   "source": [
    "thetas.min(axis=0), thetas.max(axis=0)"
   ]
  },
  {
   "cell_type": "markdown",
   "id": "ea430c6b-dba3-4c86-a10f-e45df8e5be46",
   "metadata": {},
   "source": [
    "## Save"
   ]
  },
  {
   "cell_type": "code",
   "execution_count": 95,
   "id": "242f26fb-0fc4-47ed-8d1f-353a8f859f1e",
   "metadata": {
    "execution": {
     "iopub.execute_input": "2023-05-09T20:17:43.079546Z",
     "iopub.status.busy": "2023-05-09T20:17:43.079230Z",
     "iopub.status.idle": "2023-05-09T20:17:43.343384Z",
     "shell.execute_reply": "2023-05-09T20:17:43.341906Z",
     "shell.execute_reply.started": "2023-05-09T20:17:43.079523Z"
    },
    "tags": []
   },
   "outputs": [],
   "source": [
    "dirpath = 'data/processed/UchuuUM'\n",
    "os.makedirs(dirpath, exist_ok=True)\n",
    "\n",
    "np.save(join(dirpath, 'x.npy'), gals)\n",
    "np.save(join(dirpath, 'theta.npy'), theta)\n",
    "np.save(join(dirpath, 'fold.npy'), folds)\n",
    "np.save(join(dirpath, 'id.npy'), ids)"
   ]
  },
  {
   "cell_type": "markdown",
   "id": "1bb2001c-08fa-454c-a0e9-9c2a48ad33e9",
   "metadata": {},
   "source": [
    "# Andrea's data"
   ]
  },
  {
   "cell_type": "code",
   "execution_count": 8,
   "id": "5a1e8b00-f4d1-4df7-a6c2-32ebd7774b7d",
   "metadata": {
    "execution": {
     "iopub.execute_input": "2023-05-10T10:43:19.485160Z",
     "iopub.status.busy": "2023-05-10T10:43:19.484709Z",
     "iopub.status.idle": "2023-05-10T10:43:28.897182Z",
     "shell.execute_reply": "2023-05-10T10:43:28.895729Z",
     "shell.execute_reply.started": "2023-05-10T10:43:19.485109Z"
    },
    "tags": []
   },
   "outputs": [],
   "source": [
    "data = pd.read_csv('data/raw/wide_c100.dat', delimiter=' ', \n",
    "                   skiprows=3, header=None, skipinitialspace=True)\n",
    "data.columns = ['x','y','vrf','ncl','xcl','ycl','vcl','zcl','m200','r200']"
   ]
  },
  {
   "cell_type": "code",
   "execution_count": 10,
   "id": "5f149dc1-e199-4718-b479-903b3947a273",
   "metadata": {
    "execution": {
     "iopub.execute_input": "2023-05-10T10:44:02.567597Z",
     "iopub.status.busy": "2023-05-10T10:44:02.567156Z",
     "iopub.status.idle": "2023-05-10T10:44:02.606480Z",
     "shell.execute_reply": "2023-05-10T10:44:02.605678Z",
     "shell.execute_reply.started": "2023-05-10T10:44:02.567548Z"
    },
    "tags": []
   },
   "outputs": [],
   "source": [
    "param_names = ['m200','r200']\n",
    "data_names = ['x','y','vrf']\n",
    "\n",
    "gals = data.loc[:,data_names].values\n",
    "thetas = data.loc[:,param_names].values\n",
    "thetas[:,0] = np.log10(thetas[:,0])\n",
    "ids = data.loc[:,'ncl'].values"
   ]
  },
  {
   "cell_type": "code",
   "execution_count": 11,
   "id": "7cedc769-71b6-493c-9389-bab3e05767cb",
   "metadata": {
    "execution": {
     "iopub.execute_input": "2023-05-10T10:44:03.632206Z",
     "iopub.status.busy": "2023-05-10T10:44:03.631790Z",
     "iopub.status.idle": "2023-05-10T10:44:03.667687Z",
     "shell.execute_reply": "2023-05-10T10:44:03.666860Z",
     "shell.execute_reply.started": "2023-05-10T10:44:03.632156Z"
    },
    "tags": []
   },
   "outputs": [
    {
     "name": "stdout",
     "output_type": "stream",
     "text": [
      "(24427, 2)\n"
     ]
    }
   ],
   "source": [
    "print(thetas.shape)"
   ]
  },
  {
   "cell_type": "code",
   "execution_count": 12,
   "id": "4a9a6ddd-f316-4e74-843b-e8e32cc308fe",
   "metadata": {
    "execution": {
     "iopub.execute_input": "2023-05-10T10:44:07.168744Z",
     "iopub.status.busy": "2023-05-10T10:44:07.168340Z",
     "iopub.status.idle": "2023-05-10T10:44:07.269975Z",
     "shell.execute_reply": "2023-05-10T10:44:07.268618Z",
     "shell.execute_reply.started": "2023-05-10T10:44:07.168695Z"
    },
    "tags": []
   },
   "outputs": [],
   "source": [
    "unq = np.unique(data['ncl'])\n",
    "folddict = pd.Series(np.random.choice(10, size=len(unq)), index=unq)\n",
    "folds = folddict[data['ncl']].values"
   ]
  },
  {
   "cell_type": "code",
   "execution_count": 13,
   "id": "03d32ad9-8037-4202-b7bc-a8db41320012",
   "metadata": {
    "execution": {
     "iopub.execute_input": "2023-05-10T10:44:09.135737Z",
     "iopub.status.busy": "2023-05-10T10:44:09.135346Z",
     "iopub.status.idle": "2023-05-10T10:44:10.653402Z",
     "shell.execute_reply": "2023-05-10T10:44:10.652019Z",
     "shell.execute_reply.started": "2023-05-10T10:44:09.135689Z"
    },
    "tags": []
   },
   "outputs": [],
   "source": [
    "dirpath = 'data/processed/Andrea'\n",
    "os.makedirs(dirpath, exist_ok=True)\n",
    "\n",
    "np.save(join(dirpath, 'x.npy'), gals)\n",
    "np.save(join(dirpath, 'theta.npy'), thetas)\n",
    "np.save(join(dirpath, 'fold.npy'), folds)\n",
    "np.save(join(dirpath, 'id.npy'), ids)"
   ]
  },
  {
   "cell_type": "code",
   "execution_count": 14,
   "id": "de2c44d9-cba1-4d39-b64e-af902b88dd45",
   "metadata": {
    "execution": {
     "iopub.execute_input": "2023-05-10T10:44:10.656153Z",
     "iopub.status.busy": "2023-05-10T10:44:10.655749Z",
     "iopub.status.idle": "2023-05-10T10:44:10.691917Z",
     "shell.execute_reply": "2023-05-10T10:44:10.691181Z",
     "shell.execute_reply.started": "2023-05-10T10:44:10.656104Z"
    },
    "tags": []
   },
   "outputs": [
    {
     "data": {
      "text/plain": [
       "(array([13.93500315,  0.49      ]), array([14.79518459,  1.11      ]))"
      ]
     },
     "execution_count": 14,
     "metadata": {},
     "output_type": "execute_result"
    }
   ],
   "source": [
    "thetas.min(axis=0), thetas.max(axis=0)"
   ]
  },
  {
   "cell_type": "markdown",
   "id": "c11c57b4-bbef-40e4-bea1-4143832b5575",
   "metadata": {},
   "source": [
    "# Lorenzo's data"
   ]
  },
  {
   "cell_type": "code",
   "execution_count": 27,
   "id": "773f739e-7a99-4dbc-b7cb-fad02be2aa39",
   "metadata": {
    "execution": {
     "iopub.execute_input": "2023-05-11T13:25:37.077750Z",
     "iopub.status.busy": "2023-05-11T13:25:37.077320Z",
     "iopub.status.idle": "2023-05-11T13:25:37.646266Z",
     "shell.execute_reply": "2023-05-11T13:25:37.645490Z",
     "shell.execute_reply.started": "2023-05-11T13:25:37.077700Z"
    },
    "tags": []
   },
   "outputs": [],
   "source": [
    "data = pd.read_csv('data/raw/TrainingSetMatt_NFW_gT.txt', delimiter='\\t', \n",
    "                   index_col=False, header=None,\n",
    "                   skiprows=2, on_bad_lines='skip',\n",
    "                   skipinitialspace=True)\n",
    "data = data.iloc[:,:-1]\n",
    "x = 'x_pos y_pos  Rxy  vz  deltaR deltav(stat) deltav(syst) Clust_ID z  r200  M200  rs  rnu  beta1  beta0'\n",
    "x = [y for y in x.split(' ') if y!='']\n",
    "data.columns = x\n",
    "\n",
    "# fix for now\n",
    "data['y_pos'] = np.sqrt(data['Rxy']**2 - data['x_pos']**2) * np.random.choice([-1,1], size=len(data))\n"
   ]
  },
  {
   "cell_type": "code",
   "execution_count": 28,
   "id": "ee369641-9ada-4593-a4eb-d7ddf9a990e9",
   "metadata": {
    "execution": {
     "iopub.execute_input": "2023-05-11T13:25:37.647593Z",
     "iopub.status.busy": "2023-05-11T13:25:37.647373Z",
     "iopub.status.idle": "2023-05-11T13:25:37.679821Z",
     "shell.execute_reply": "2023-05-11T13:25:37.679050Z",
     "shell.execute_reply.started": "2023-05-11T13:25:37.647576Z"
    },
    "tags": []
   },
   "outputs": [],
   "source": [
    "param_names = ['M200','rs']\n",
    "data_names = ['x_pos','y_pos','vz']\n",
    "\n",
    "gals = data.loc[:,data_names].values\n",
    "thetas = data.loc[:,param_names].values\n",
    "thetas[:,0] = np.log10(thetas[:,0])\n",
    "ids = data.loc[:,'Clust_ID'].values"
   ]
  },
  {
   "cell_type": "code",
   "execution_count": 29,
   "id": "a89b7fa7-8155-4f7a-b6e2-96f9ac527f14",
   "metadata": {
    "execution": {
     "iopub.execute_input": "2023-05-11T13:25:38.498474Z",
     "iopub.status.busy": "2023-05-11T13:25:38.497934Z",
     "iopub.status.idle": "2023-05-11T13:25:38.615714Z",
     "shell.execute_reply": "2023-05-11T13:25:38.614554Z",
     "shell.execute_reply.started": "2023-05-11T13:25:38.498422Z"
    },
    "tags": []
   },
   "outputs": [],
   "source": [
    "unq = np.unique(data['Clust_ID'])\n",
    "folddict = pd.Series(np.random.choice(10, size=len(unq)), index=unq)\n",
    "folds = folddict[data['Clust_ID']].values\n",
    "print(len(unq))"
   ]
  },
  {
   "cell_type": "code",
   "execution_count": 30,
   "id": "266b2ca2-dd99-4d2e-9ee0-9ae4655af3a8",
   "metadata": {
    "execution": {
     "iopub.execute_input": "2023-05-11T13:25:39.912674Z",
     "iopub.status.busy": "2023-05-11T13:25:39.912402Z",
     "iopub.status.idle": "2023-05-11T13:25:40.383489Z",
     "shell.execute_reply": "2023-05-11T13:25:40.382062Z",
     "shell.execute_reply.started": "2023-05-11T13:25:39.912644Z"
    },
    "tags": []
   },
   "outputs": [],
   "source": [
    "dirpath = 'data/processed/Lorenzo'\n",
    "os.makedirs(dirpath, exist_ok=True)\n",
    "\n",
    "np.save(join(dirpath, 'x.npy'), gals)\n",
    "np.save(join(dirpath, 'theta.npy'), thetas)\n",
    "np.save(join(dirpath, 'fold.npy'), folds)\n",
    "np.save(join(dirpath, 'id.npy'), ids)"
   ]
  },
  {
   "cell_type": "code",
   "execution_count": 21,
   "id": "eab8ed45-829b-45c9-bde9-7256efa10352",
   "metadata": {
    "execution": {
     "iopub.execute_input": "2023-05-10T10:45:49.282485Z",
     "iopub.status.busy": "2023-05-10T10:45:49.281915Z",
     "iopub.status.idle": "2023-05-10T10:45:49.319473Z",
     "shell.execute_reply": "2023-05-10T10:45:49.318727Z",
     "shell.execute_reply.started": "2023-05-10T10:45:49.282434Z"
    },
    "tags": []
   },
   "outputs": [
    {
     "data": {
      "text/plain": [
       "(array([13.72631961,  0.1003    ]), array([14.62603225,  0.2801    ]))"
      ]
     },
     "execution_count": 21,
     "metadata": {},
     "output_type": "execute_result"
    }
   ],
   "source": [
    "thetas.min(axis=0), thetas.max(axis=0)"
   ]
  },
  {
   "cell_type": "code",
   "execution_count": 26,
   "id": "ead223c9-9faa-40e1-808d-46369926b9a3",
   "metadata": {
    "execution": {
     "iopub.execute_input": "2023-05-11T13:25:31.993818Z",
     "iopub.status.busy": "2023-05-11T13:25:31.993390Z",
     "iopub.status.idle": "2023-05-11T13:25:32.096396Z",
     "shell.execute_reply": "2023-05-11T13:25:32.095686Z",
     "shell.execute_reply.started": "2023-05-11T13:25:31.993770Z"
    },
    "tags": []
   },
   "outputs": [
    {
     "data": {
      "text/plain": [
       "[<matplotlib.lines.Line2D at 0x7f366c3a3670>]"
      ]
     },
     "execution_count": 26,
     "metadata": {},
     "output_type": "execute_result"
    },
    {
     "data": {
      "image/png": "[encoded data removed]",
      "text/plain": [
       "<Figure size 432x288 with 1 Axes>"
      ]
     },
     "metadata": {
      "needs_background": "light"
     },
     "output_type": "display_data"
    }
   ],
   "source": [
    "plt.plot(data.loc[:10, 'x_pos'], data.loc[:10, 'y_pos'],'.')"
   ]
  }
 ],
 "metadata": {
  "kernelspec": {
   "display_name": "pt",
   "language": "python",
   "name": "pt"
  },
  "language_info": {
   "codemirror_mode": {
    "name": "ipython",
    "version": 3
   },
   "file_extension": ".py",
   "mimetype": "text/x-python",
   "name": "python",
   "nbconvert_exporter": "python",
   "pygments_lexer": "ipython3",
   "version": "3.10.4"
  },
  "toc": {
   "base_numbering": 1,
   "nav_menu": {},
   "number_sections": true,
   "sideBar": true,
   "skip_h1_title": false,
   "title_cell": "Table of Contents",
   "title_sidebar": "Contents",
   "toc_cell": false,
   "toc_position": {},
   "toc_section_display": true,
   "toc_window_display": true
  }
 },
 "nbformat": 4,
 "nbformat_minor": 5
}
