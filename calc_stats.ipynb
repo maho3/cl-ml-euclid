{
 "cells": [
  {
   "cell_type": "code",
   "execution_count": 139,
   "id": "211ffba2",
   "metadata": {
    "ExecuteTime": {
     "end_time": "2023-05-28T22:11:26.942046Z",
     "start_time": "2023-05-28T22:11:26.937057Z"
    }
   },
   "outputs": [],
   "source": [
    "import os\n",
    "from os.path import join\n",
    "from copy import deepcopy\n",
    "import numpy as np\n",
    "import pickle\n",
    "import scipy\n",
    "from sklearn.linear_model import LinearRegression\n",
    "\n",
    "import torch\n",
    "import sbi\n",
    "from sbi import utils as utils\n",
    "from sbi.inference import SNLE, likelihood_estimator_based_potential\n",
    "\n",
    "import yaml\n",
    "import argparse\n",
    "\n",
    "import matplotlib as mpl\n",
    "import matplotlib.pyplot as plt\n",
    "import seaborn as sns"
   ]
  },
  {
   "cell_type": "code",
   "execution_count": 153,
   "id": "87eb9410",
   "metadata": {
    "ExecuteTime": {
     "end_time": "2023-05-28T22:20:40.246993Z",
     "start_time": "2023-05-28T22:20:40.240244Z"
    }
   },
   "outputs": [],
   "source": [
    "get_cen = lambda edges: np.array([(edges[i]+edges[i+1])/2. for i in range(len(edges)-1)])\n",
    "def gapper(v):\n",
    "    \"\"\" Returns the gapper velocity dispersion of a cluster (Sigma_G)\n",
    "\n",
    "    v is an array of galaxy velocity values.\n",
    "    \"\"\"\n",
    "    n = len(v)\n",
    "    w = np.arange(1, n) * np.arange(n-1, 0, -1)\n",
    "    g = np.diff(v)\n",
    "    sigG = (np.sqrt(np.pi))/(n*(n-1)) * np.dot(w, g)\n",
    "    return sigG"
   ]
  },
  {
   "cell_type": "markdown",
   "id": "3b2d67dd-b612-4f1c-a253-7624704c0060",
   "metadata": {},
   "source": [
    "# Get config"
   ]
  },
  {
   "cell_type": "code",
   "execution_count": 264,
   "id": "e53e59cd-361e-40f2-a9a9-a9ca44385359",
   "metadata": {
    "ExecuteTime": {
     "end_time": "2023-05-29T02:17:52.132314Z",
     "start_time": "2023-05-29T02:17:52.128318Z"
    },
    "execution": {
     "iopub.execute_input": "2023-05-25T10:49:32.546766Z",
     "iopub.status.busy": "2023-05-25T10:49:32.546653Z",
     "iopub.status.idle": "2023-05-25T10:49:32.549105Z",
     "shell.execute_reply": "2023-05-25T10:49:32.548691Z",
     "shell.execute_reply.started": "2023-05-25T10:49:32.546753Z"
    },
    "tags": []
   },
   "outputs": [],
   "source": [
    "cfgpath = 'configs/FS2dC50.yaml'"
   ]
  },
  {
   "cell_type": "code",
   "execution_count": 265,
   "id": "bb508329-0aa8-464e-be8e-d4f2c1ca59ee",
   "metadata": {
    "ExecuteTime": {
     "end_time": "2023-05-29T02:17:52.288812Z",
     "start_time": "2023-05-29T02:17:52.278483Z"
    },
    "execution": {
     "iopub.execute_input": "2023-05-25T10:49:32.550434Z",
     "iopub.status.busy": "2023-05-25T10:49:32.550153Z",
     "iopub.status.idle": "2023-05-25T10:49:32.568544Z",
     "shell.execute_reply": "2023-05-25T10:49:32.568073Z",
     "shell.execute_reply.started": "2023-05-25T10:49:32.550418Z"
    },
    "tags": []
   },
   "outputs": [
    {
     "name": "stdout",
     "output_type": "stream",
     "text": [
      "{'data': {'name': 'FS2dC50'}, 'param_names': ['logm200', 'logr200'], 'data_names': ['x', 'y', 'vrf'], 'priors': {'low': [13.9, -0.31], 'high': [14.8, 0.05]}, 'val': {'sample_at': [0.5], 'Nclu': 100, 'Nsamp': 100}, 'example': {'sample_at': [0.5], 'Nclu': 5, 'Nsamp': 1000}}\n"
     ]
    }
   ],
   "source": [
    "with open(cfgpath, 'r') as f:\n",
    "    cfg = dict(yaml.safe_load(f))\n",
    "print(cfg)\n",
    "param_names = cfg['param_names']\n",
    "data_names = cfg['data_names']"
   ]
  },
  {
   "cell_type": "markdown",
   "id": "55aba365-2059-4dc4-9280-23362fa8f74e",
   "metadata": {},
   "source": [
    "# Load"
   ]
  },
  {
   "cell_type": "code",
   "execution_count": 266,
   "id": "5872ec05-6141-4bc7-94a0-19aa7f97c123",
   "metadata": {
    "ExecuteTime": {
     "end_time": "2023-05-29T02:17:52.625459Z",
     "start_time": "2023-05-29T02:17:52.613783Z"
    },
    "execution": {
     "iopub.execute_input": "2023-05-25T10:49:32.569226Z",
     "iopub.status.busy": "2023-05-25T10:49:32.569126Z",
     "iopub.status.idle": "2023-05-25T10:49:32.696930Z",
     "shell.execute_reply": "2023-05-25T10:49:32.696462Z",
     "shell.execute_reply.started": "2023-05-25T10:49:32.569214Z"
    },
    "tags": []
   },
   "outputs": [
    {
     "name": "stdout",
     "output_type": "stream",
     "text": [
      "Loading from: data/processed/FS2dC50\n"
     ]
    }
   ],
   "source": [
    "datapath = join('data/processed', cfg['data']['name'])\n",
    "print('Loading from:', datapath)\n",
    "data = np.load(join(datapath, 'x.npy'))\n",
    "theta = np.load(join(datapath, 'theta.npy'))\n",
    "fold = np.load(join(datapath, 'fold.npy'))\n",
    "ids = np.load(join(datapath, 'id.npy'))"
   ]
  },
  {
   "cell_type": "code",
   "execution_count": 267,
   "id": "5be3da7c",
   "metadata": {
    "ExecuteTime": {
     "end_time": "2023-05-29T02:17:52.784797Z",
     "start_time": "2023-05-29T02:17:52.776260Z"
    }
   },
   "outputs": [
    {
     "name": "stdout",
     "output_type": "stream",
     "text": [
      "Loading from: saved_models/FS2dC50\n"
     ]
    }
   ],
   "source": [
    "modelpath = join('saved_models', cfg['data']['name'])\n",
    "print('Loading from:', modelpath)\n",
    "samps = np.load(join(modelpath, 'samps.npy'))\n",
    "maps = np.load(join(modelpath, 'MAP.npy'))\n",
    "trues = np.load(join(modelpath, 'trues.npy'))"
   ]
  },
  {
   "cell_type": "code",
   "execution_count": 268,
   "id": "f7bc8409",
   "metadata": {
    "ExecuteTime": {
     "end_time": "2023-05-29T02:17:53.084576Z",
     "start_time": "2023-05-29T02:17:52.926966Z"
    }
   },
   "outputs": [],
   "source": [
    "# fit M-sigma linear regression\n",
    "mask = fold != 0\n",
    "dtr = data[mask,-1]\n",
    "ttr = theta[mask,0]\n",
    "itr = ids[mask]\n",
    "\n",
    "sigvs = []\n",
    "for i in np.unique(itr):\n",
    "    tmp = gapper(dtr[itr==i])\n",
    "    sigvs.append((tmp, ttr[itr==i][0]))\n",
    "sigvs = np.array(sigvs)\n",
    "sigvs = sigvs[sigvs[:,0]>0]\n",
    "\n",
    "lr = LinearRegression()\n",
    "lr = lr.fit(sigvs[:,1][:,None], np.log10(sigvs[:,0]))"
   ]
  },
  {
   "cell_type": "code",
   "execution_count": 269,
   "id": "caa8507b",
   "metadata": {
    "ExecuteTime": {
     "end_time": "2023-05-29T02:17:53.096171Z",
     "start_time": "2023-05-29T02:17:53.088379Z"
    }
   },
   "outputs": [],
   "source": [
    "# apply on test set\n",
    "mask = fold == 0\n",
    "dtr = data[mask,-1]\n",
    "ttr = theta[mask,0]\n",
    "itr = ids[mask]\n",
    "\n",
    "sigvs = []\n",
    "for i in np.unique(itr):\n",
    "    tmp = gapper(dtr[itr==i])\n",
    "    sigvs.append((tmp, ttr[itr==i][0]))\n",
    "sigvs = np.array(sigvs)\n",
    "sigvs = sigvs[sigvs[:,0]>0]\n",
    "\n",
    "svtrue = sigvs[:,1]\n",
    "svpred = (np.log10(sigvs[:,0])-lr.intercept_)/lr.coef_\n",
    "# censor within prior\n",
    "svpred = np.minimum(cfg['priors']['high'][0], svpred)\n",
    "svpred = np.maximum(cfg['priors']['low'][0], svpred)"
   ]
  },
  {
   "cell_type": "code",
   "execution_count": 270,
   "id": "0665d2fb",
   "metadata": {
    "ExecuteTime": {
     "end_time": "2023-05-29T02:17:53.265187Z",
     "start_time": "2023-05-29T02:17:53.259123Z"
    }
   },
   "outputs": [
    {
     "name": "stdout",
     "output_type": "stream",
     "text": [
      "0.260 & 0.417 & 0.200 & 0.169 & 0.200\n"
     ]
    }
   ],
   "source": [
    "stdpr = np.sqrt((cfg['priors']['high'][0] - cfg['priors']['low'][0])**2/12)\n",
    "stdsv = np.std(svtrue-svpred)\n",
    "stdsamp = np.std(trues[:,None,:].repeat(repeats=samps.shape[1], axis=1)[...,0]-samps[...,0])\n",
    "stdmean = np.std(trues[...,0]-samps[...,0].mean(axis=1))\n",
    "stdmap = np.std(trues[...,0]-maps[:,0,0])\n",
    "\n",
    "stdlist = [stdpr, stdsv, stdsamp, stdmean, stdmap]\n",
    "stdlist = [f\"{x:.3f}\" for x in stdlist]\n",
    "print(' & '.join(stdlist))"
   ]
  },
  {
   "cell_type": "code",
   "execution_count": null,
   "id": "0a427f6e",
   "metadata": {
    "ExecuteTime": {
     "end_time": "2023-05-29T02:11:50.964817Z",
     "start_time": "2023-05-29T02:11:50.871077Z"
    }
   },
   "outputs": [],
   "source": []
  },
  {
   "cell_type": "code",
   "execution_count": null,
   "id": "0a39bf44",
   "metadata": {
    "ExecuteTime": {
     "end_time": "2023-05-29T02:08:46.897873Z",
     "start_time": "2023-05-29T02:08:46.890562Z"
    }
   },
   "outputs": [],
   "source": []
  },
  {
   "cell_type": "code",
   "execution_count": null,
   "id": "a06773da",
   "metadata": {
    "ExecuteTime": {
     "end_time": "2023-05-29T02:04:30.394487Z",
     "start_time": "2023-05-29T02:04:30.305845Z"
    }
   },
   "outputs": [],
   "source": []
  },
  {
   "cell_type": "code",
   "execution_count": null,
   "id": "1df7bbae",
   "metadata": {
    "ExecuteTime": {
     "end_time": "2023-05-29T02:13:32.078413Z",
     "start_time": "2023-05-29T02:13:32.071515Z"
    }
   },
   "outputs": [],
   "source": []
  },
  {
   "cell_type": "code",
   "execution_count": null,
   "id": "4a1e65cc",
   "metadata": {},
   "outputs": [],
   "source": []
  }
 ],
 "metadata": {
  "kernelspec": {
   "display_name": "Python 3 (ipykernel)",
   "language": "python",
   "name": "python3"
  },
  "language_info": {
   "codemirror_mode": {
    "name": "ipython",
    "version": 3
   },
   "file_extension": ".py",
   "mimetype": "text/x-python",
   "name": "python",
   "nbconvert_exporter": "python",
   "pygments_lexer": "ipython3",
   "version": "3.10.6"
  },
  "toc": {
   "base_numbering": 1,
   "nav_menu": {},
   "number_sections": true,
   "sideBar": true,
   "skip_h1_title": false,
   "title_cell": "Table of Contents",
   "title_sidebar": "Contents",
   "toc_cell": false,
   "toc_position": {},
   "toc_section_display": true,
   "toc_window_display": false
  }
 },
 "nbformat": 4,
 "nbformat_minor": 5
}
